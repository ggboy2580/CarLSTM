{
 "cells": [
  {
   "cell_type": "code",
   "execution_count": 1,
   "id": "initial_id",
   "metadata": {
    "collapsed": true,
    "ExecuteTime": {
     "end_time": "2024-05-09T10:39:00.692610600Z",
     "start_time": "2024-05-09T10:38:59.907458900Z"
    }
   },
   "outputs": [],
   "source": [
    "import pandas as pd\n",
    "import matplotlib.pyplot as plt\n",
    "import seaborn as sns\n",
    "\n",
    "#设置全局默认字体 为 雅黑\n",
    "plt.rcParams['font.family'] = ['Microsoft YaHei'] \n",
    "# 设置全局轴标签字典大小\n",
    "plt.rcParams[\"axes.labelsize\"] = 14  \n",
    "# 设置背景\n",
    "sns.set_style(\"darkgrid\",{\"font.family\":['Microsoft YaHei', 'SimHei']})  \n"
   ]
  },
  {
   "cell_type": "code",
   "execution_count": 4,
   "outputs": [
    {
     "data": {
      "text/plain": "   Unnamed: 0                                   标题     价格   新车含税价         标签  \\\n0           0     奥迪A6L新能源 2022款 55 TFSI e quattro  34.98  55.14万   准新车、品牌认证   \n1           1             宝马5系新能源 2021款 535Le 豪华套装  31.80  54.26万  0次过户、原厂质保   \n2           2                  宝马iX 2022款 xDrive40  37.40  81.07万    新上架、准新车   \n3           3       欧拉好猫 2021款 400km标准续航 雅典娜版 磷酸铁锂   8.58  13.45万   新上架、0次过户   \n4           4  奥迪Q2L e-tron 2019款 Q2L e-tron 纯电智享型  10.68  25.76万   新上架、品牌认证   \n\n      表显里程      上牌时间   挡位   排量 车辆所在地  ... 所在地             发动机    车辆级别  车身颜色  \\\n0  0.41万公里  2022年10月  自动    2L    成都  ...  成都  2.0T 252马力 L4     中大型车    黑色   \n1  3.11万公里  2021年03月  自动    2L    厦门  ...  厦门  2.0T 184马力 L4     中大型车    白色   \n2   0.4万公里  2022年11月  自动    0L    天津  ...  天津      纯电动 326马力   中大型SUV    绿色   \n3   2.4万公里  2021年12月  自动    0L    武汉  ...  武汉      纯电动 143马力      小型车  红/紫色   \n4   6.8万公里  2020年12月  自动    0L    成都  ...  成都      纯电动 136马力    小型SUV  银/灰色   \n\n    驱动方式   标准容量    标准快充    标准慢充 NEDC纯电续航里程 CLTC纯电续航里程  \n0   前置四驱  14kwh     -小时     -小时        NaN        NaN  \n1   前置后驱  18kwh     -小时   3.9小时        NaN        NaN  \n2  双电机四驱  77kwh  0.68小时  7.25小时        NaN        NaN  \n3   前置前驱  48kwh   0.5小时     8小时      401km        NaN  \n4   前置前驱  40kwh   0.6小时    17小时      265km        NaN  \n\n[5 rows x 28 columns]",
      "text/html": "<div>\n<style scoped>\n    .dataframe tbody tr th:only-of-type {\n        vertical-align: middle;\n    }\n\n    .dataframe tbody tr th {\n        vertical-align: top;\n    }\n\n    .dataframe thead th {\n        text-align: right;\n    }\n</style>\n<table border=\"1\" class=\"dataframe\">\n  <thead>\n    <tr style=\"text-align: right;\">\n      <th></th>\n      <th>Unnamed: 0</th>\n      <th>标题</th>\n      <th>价格</th>\n      <th>新车含税价</th>\n      <th>标签</th>\n      <th>表显里程</th>\n      <th>上牌时间</th>\n      <th>挡位</th>\n      <th>排量</th>\n      <th>车辆所在地</th>\n      <th>...</th>\n      <th>所在地</th>\n      <th>发动机</th>\n      <th>车辆级别</th>\n      <th>车身颜色</th>\n      <th>驱动方式</th>\n      <th>标准容量</th>\n      <th>标准快充</th>\n      <th>标准慢充</th>\n      <th>NEDC纯电续航里程</th>\n      <th>CLTC纯电续航里程</th>\n    </tr>\n  </thead>\n  <tbody>\n    <tr>\n      <th>0</th>\n      <td>0</td>\n      <td>奥迪A6L新能源 2022款 55 TFSI e quattro</td>\n      <td>34.98</td>\n      <td>55.14万</td>\n      <td>准新车、品牌认证</td>\n      <td>0.41万公里</td>\n      <td>2022年10月</td>\n      <td>自动</td>\n      <td>2L</td>\n      <td>成都</td>\n      <td>...</td>\n      <td>成都</td>\n      <td>2.0T 252马力 L4</td>\n      <td>中大型车</td>\n      <td>黑色</td>\n      <td>前置四驱</td>\n      <td>14kwh</td>\n      <td>-小时</td>\n      <td>-小时</td>\n      <td>NaN</td>\n      <td>NaN</td>\n    </tr>\n    <tr>\n      <th>1</th>\n      <td>1</td>\n      <td>宝马5系新能源 2021款 535Le 豪华套装</td>\n      <td>31.80</td>\n      <td>54.26万</td>\n      <td>0次过户、原厂质保</td>\n      <td>3.11万公里</td>\n      <td>2021年03月</td>\n      <td>自动</td>\n      <td>2L</td>\n      <td>厦门</td>\n      <td>...</td>\n      <td>厦门</td>\n      <td>2.0T 184马力 L4</td>\n      <td>中大型车</td>\n      <td>白色</td>\n      <td>前置后驱</td>\n      <td>18kwh</td>\n      <td>-小时</td>\n      <td>3.9小时</td>\n      <td>NaN</td>\n      <td>NaN</td>\n    </tr>\n    <tr>\n      <th>2</th>\n      <td>2</td>\n      <td>宝马iX 2022款 xDrive40</td>\n      <td>37.40</td>\n      <td>81.07万</td>\n      <td>新上架、准新车</td>\n      <td>0.4万公里</td>\n      <td>2022年11月</td>\n      <td>自动</td>\n      <td>0L</td>\n      <td>天津</td>\n      <td>...</td>\n      <td>天津</td>\n      <td>纯电动 326马力</td>\n      <td>中大型SUV</td>\n      <td>绿色</td>\n      <td>双电机四驱</td>\n      <td>77kwh</td>\n      <td>0.68小时</td>\n      <td>7.25小时</td>\n      <td>NaN</td>\n      <td>NaN</td>\n    </tr>\n    <tr>\n      <th>3</th>\n      <td>3</td>\n      <td>欧拉好猫 2021款 400km标准续航 雅典娜版 磷酸铁锂</td>\n      <td>8.58</td>\n      <td>13.45万</td>\n      <td>新上架、0次过户</td>\n      <td>2.4万公里</td>\n      <td>2021年12月</td>\n      <td>自动</td>\n      <td>0L</td>\n      <td>武汉</td>\n      <td>...</td>\n      <td>武汉</td>\n      <td>纯电动 143马力</td>\n      <td>小型车</td>\n      <td>红/紫色</td>\n      <td>前置前驱</td>\n      <td>48kwh</td>\n      <td>0.5小时</td>\n      <td>8小时</td>\n      <td>401km</td>\n      <td>NaN</td>\n    </tr>\n    <tr>\n      <th>4</th>\n      <td>4</td>\n      <td>奥迪Q2L e-tron 2019款 Q2L e-tron 纯电智享型</td>\n      <td>10.68</td>\n      <td>25.76万</td>\n      <td>新上架、品牌认证</td>\n      <td>6.8万公里</td>\n      <td>2020年12月</td>\n      <td>自动</td>\n      <td>0L</td>\n      <td>成都</td>\n      <td>...</td>\n      <td>成都</td>\n      <td>纯电动 136马力</td>\n      <td>小型SUV</td>\n      <td>银/灰色</td>\n      <td>前置前驱</td>\n      <td>40kwh</td>\n      <td>0.6小时</td>\n      <td>17小时</td>\n      <td>265km</td>\n      <td>NaN</td>\n    </tr>\n  </tbody>\n</table>\n<p>5 rows × 28 columns</p>\n</div>"
     },
     "execution_count": 4,
     "metadata": {},
     "output_type": "execute_result"
    }
   ],
   "source": [
    "data = pd.read_excel(r\"汽车之家数据.xlsx\")\n",
    "\n",
    "# Display the first few rows of the dataset\n",
    "data.head()\n",
    "\n"
   ],
   "metadata": {
    "collapsed": false,
    "ExecuteTime": {
     "end_time": "2024-05-09T10:39:38.191016700Z",
     "start_time": "2024-05-09T10:39:31.013486100Z"
    }
   },
   "id": "b8aaa1462314ee09"
  },
  {
   "cell_type": "code",
   "execution_count": 5,
   "outputs": [
    {
     "name": "stdout",
     "output_type": "stream",
     "text": [
      "<class 'pandas.core.frame.DataFrame'>\n",
      "RangeIndex: 24046 entries, 0 to 24045\n",
      "Data columns (total 28 columns):\n",
      " #   Column      Non-Null Count  Dtype  \n",
      "---  ------      --------------  -----  \n",
      " 0   Unnamed: 0  24046 non-null  int64  \n",
      " 1   标题          24046 non-null  object \n",
      " 2   价格          23641 non-null  float64\n",
      " 3   新车含税价       24037 non-null  object \n",
      " 4   标签          19118 non-null  object \n",
      " 5   表显里程        24046 non-null  object \n",
      " 6   上牌时间        24046 non-null  object \n",
      " 7   挡位          24046 non-null  object \n",
      " 8   排量          24046 non-null  object \n",
      " 9   车辆所在地       24046 non-null  object \n",
      " 10  查看限迁地       24046 non-null  object \n",
      " 11  变速箱         24046 non-null  object \n",
      " 12  燃料类型        24045 non-null  object \n",
      " 13  WLTC纯电续航里程  5366 non-null   object \n",
      " 14  发布时间        24046 non-null  object \n",
      " 15  年检到期        24046 non-null  object \n",
      " 16  保险到期        24046 non-null  object \n",
      " 17  过户次数        24046 non-null  object \n",
      " 18  所在地         24046 non-null  object \n",
      " 19  发动机         24046 non-null  object \n",
      " 20  车辆级别        23662 non-null  object \n",
      " 21  车身颜色        24046 non-null  object \n",
      " 22  驱动方式        24046 non-null  object \n",
      " 23  标准容量        24045 non-null  object \n",
      " 24  标准快充        21048 non-null  object \n",
      " 25  标准慢充        21300 non-null  object \n",
      " 26  NEDC纯电续航里程  12069 non-null  object \n",
      " 27  CLTC纯电续航里程  5671 non-null   object \n",
      "dtypes: float64(1), int64(1), object(26)\n",
      "memory usage: 5.1+ MB\n"
     ]
    },
    {
     "data": {
      "text/plain": "(None,\n          Unnamed: 0            价格\n count  24046.000000  23641.000000\n mean   12022.500000     22.164179\n std     6941.626623     42.354589\n min        0.000000      0.780000\n 25%     6011.250000      8.280000\n 50%    12022.500000     14.980000\n 75%    18033.750000     22.800000\n max    24045.000000    758.000000)"
     },
     "execution_count": 5,
     "metadata": {},
     "output_type": "execute_result"
    }
   ],
   "source": [
    "# 1. 查看数据集的基本信息\n",
    "data_info = data.info()\n",
    "\n",
    "# 2. 描述性统计\n",
    "descriptive_stats = data.describe()\n",
    "\n",
    "data_info, descriptive_stats"
   ],
   "metadata": {
    "collapsed": false,
    "ExecuteTime": {
     "end_time": "2024-05-09T10:40:22.824527700Z",
     "start_time": "2024-05-09T10:40:22.803763400Z"
    }
   },
   "id": "51d28db1af4438d"
  },
  {
   "cell_type": "code",
   "execution_count": null,
   "outputs": [],
   "source": [],
   "metadata": {
    "collapsed": false
   },
   "id": "a1ac94e3cb802594"
  }
 ],
 "metadata": {
  "kernelspec": {
   "display_name": "Python 3",
   "language": "python",
   "name": "python3"
  },
  "language_info": {
   "codemirror_mode": {
    "name": "ipython",
    "version": 2
   },
   "file_extension": ".py",
   "mimetype": "text/x-python",
   "name": "python",
   "nbconvert_exporter": "python",
   "pygments_lexer": "ipython2",
   "version": "2.7.6"
  }
 },
 "nbformat": 4,
 "nbformat_minor": 5
}
